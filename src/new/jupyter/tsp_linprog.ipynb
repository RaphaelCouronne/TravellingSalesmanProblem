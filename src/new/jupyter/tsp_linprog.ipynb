{
 "cells": [
  {
   "cell_type": "markdown",
   "metadata": {},
   "source": [
    "# Resoudre un TSP avec la Programmation Lineaire\n"
   ]
  },
  {
   "cell_type": "markdown",
   "metadata": {},
   "source": [
    "Rappel: la programmation lineaire resoud des problemes d _optimisation sous contraintes_.\n",
    "\n",
    "Un probleme se compose de\n",
    "\n",
    "- variables: une variable est un element nomme qui peut prendre ses valeurs dans unintrevalle. Une variable peut aussi etre constrainte a prendre des valeurs _entieres_. Le solver lineaire va determiner\n",
    "la valeur qui correspond a la meilleure valeur de l'objectif.\n",
    "- des contraintes _lineaires_, c'est a dire a base de combinaisons lineaires de variables, de la forme $$\\sum_{i} a_i X_i <= b_i$$ (ou >=, ou ==), mais jamais d operateur strict).\n",
    "- un objectif, c est a dire une forme lineaire a minimiser ou maximiser (c est la meme chose, en changeant de signe).\n",
    "\n",
    "\n",
    "## Plan du notebook\n",
    "\n",
    "### Les outils\n",
    "### Les donnees d entree\n",
    "### Modeliser un TSP avec la programmation lineaire\n",
    "\n",
    " - les variables binaires\n",
    " - les contraintes de noeuds\n",
    " - la fonctuion de cout\n",
    "    \n"
   ]
  },
  {
   "cell_type": "markdown",
   "metadata": {},
   "source": [
    "## Les outils\n",
    "\n",
    "Nous utilisons le solver lineaire CPLEX, dans sa version gratuite, limitee a 1000 variables, 1000 constraintes. Comme nous le verrons, cela suffit pour de petits TSP.\n",
    "Pour piloter le solver lineaire et ecrire nos modeles en Python, nous utiliserons le module DOcplex (https://pypi.org/project/docplex/)\n",
    "\n",
    "La documentation est a rechercher ici: http://ibmdecisionoptimization.github.io/docplex-doc/mp/refman.html"
   ]
  },
  {
   "cell_type": "markdown",
   "metadata": {},
   "source": [
    "## Les donnees d'entree\n",
    "\n",
    "Les donnees seront supposees fournies comme une liste de 3-tuples comportant unnom et deux coordonnees.\n",
    "\n",
    "La mesure de distance est fournie comme une fonction prenant deux arguments de ce type.\n",
    "\n",
    "On ne suppose pas que la distance soit symetrique, a priori le probleme est _asymetrique_; le temps passe en remontant au vent est plus long que si le vent est portant.\n"
   ]
  },
  {
   "cell_type": "code",
   "execution_count": 1,
   "metadata": {},
   "outputs": [],
   "source": [
    "# Model est la classe qui permet de decrire les modeles.\n",
    "from docplex.mp.model import Model"
   ]
  },
  {
   "cell_type": "markdown",
   "metadata": {},
   "source": [
    "## Modeliser un TSP avec la programmation lineaire\n",
    "\n",
    "### Une premiere modelisation\n",
    "\n",
    "#### les variables binaires\n",
    "\n",
    "Pour chaque couple (i,j) avec $i \\neq j$ on definit une variable _binaire_ (deux valeurs possibles) $a_{i,j}$ qui vaut 1 si $c_j$ est le successeur de $c_i$ dans le trajet optimal, et 0 sinon.\n",
    "\n",
    "#### Les contraintes\n",
    "\n",
    "Pour tout noeud, on a exactement un arc sortant et exacement un arc entrant, soit:\n",
    "\n",
    "$$\\sum_{j} a{_{i,j}} == 1$$\n",
    "\n",
    "$$\\sum_{j} a{_{j, i}} == 1$$\n",
    "\n",
    "On verifie que ces contraintes sont bien lineaires.\n",
    "\n",
    "#### La fonction de cout a optimiser\n",
    "\n",
    "On veut minimiser la distance soit $\\sum a_{i,j} d(i,j)$, avec $d_{i,j}$ la distance entre les points i et j. (qui est une constante.)\n",
    "\n",
    "\n",
    "Ecrivons un tel modele lineaire sur un petit exemple avec 8 points...."
   ]
  },
  {
   "cell_type": "code",
   "execution_count": 2,
   "metadata": {},
   "outputs": [],
   "source": [
    "import math\n",
    "\n",
    "g8 = [(0, 0, 'A'), (0, 10, 'B'), (10, 10, 'C'), (10, 0, 'D'),\n",
    "          (60, 0, \"E\"), (70, 0, \"F\"), (70, 10, \"G\"), (60, 10, \"H\")]\n",
    "\n",
    "# la fonction de distance.\n",
    "# par convention , les points sont des triplets (nom, coord1, coord2)\n",
    "# pour longitude/ latitude, on prend comme convention (latitude, longitude)\n",
    "def euclide(c1, c2):\n",
    "    x11, x12, _ = c1\n",
    "    x21, x22, _ = c2\n",
    "    d = (x11 - x21) ** 2 + (x22 - x12) ** 2\n",
    "    return math.sqrt(d)"
   ]
  },
  {
   "cell_type": "markdown",
   "metadata": {},
   "source": [
    "### Comment utiliser le module docplex pour poser le modele lineaire:\n",
    "\n",
    "Indications:\n",
    "\n",
    "1. creer un modele a partir de la classe `docplex.mp.model.Model` avec le nom 'tsp1'\n",
    "    >. m = Model(name='tsp8')\n",
    "2. creer un dicitionnaire de variables binaires (cad pouvant prendre des valeurs 0 ou 1, exclusivement). Les cles dece dctionnaire seront les arcs (pi, pj) avec pi, pj de spoints differents. \n",
    "3. ajouter les contraintes au modele en utilisant `Model.add_constraint`. Pour calculer la somme de variables, il faut imperativement utiliser la fonction `Model.sum` et pas le `sum` de Python. \n",
    "4. Definir l'objectif comme longueur totale du chemin, en utilisant `Model.minimize`\n",
    "\n",
    "Note: a tout instant on peut utiliser la fonction `Model.print_information()` pour savoir combien d'objets contient le modele.\n",
    "\n",
    "**Les fonctions utilisees**:\n",
    "\n",
    "- **Model(name='tsp1')** ppour creer un objet modele, avec un nom,\n",
    "- **m.print_information()** pour afficher les informations sur le modele\n",
    "- **m.binary_var_dict(keys, name)** pour creer un dict de variables binaires avec les cles `keys`.\n",
    "- **m.add_constraint()** pour ajouter une contrainte lineaire au probleme.\n",
    "- **m.dotf()** pour calculer un produit scalaire _fonctionnel_\n",
    "- **m.minimize()** pour minimser une expression lineaire.\n",
    "- **m.solve()** pour resoudre le probleme lineaire\n",
    "    Cette fonction retourne une solution qui donne la valeur des variables a l optimum.\n",
    "    On peut passer un argument mot-cle \"log_output=True\" pour voir la trace pendant le solve."
   ]
  },
  {
   "cell_type": "code",
   "execution_count": 3,
   "metadata": {},
   "outputs": [
    {
     "data": {
      "text/plain": [
       "'2.12.182'"
      ]
     },
     "execution_count": 3,
     "metadata": {},
     "output_type": "execute_result"
    }
   ],
   "source": [
    "import docplex\n",
    "docplex.__version__\n"
   ]
  },
  {
   "cell_type": "markdown",
   "metadata": {},
   "source": [
    "\n",
    "Pour creer le modele, nous partirons des arcs possibles soit les couples(pi, pj) avec i different de j.\n",
    "Il y a exactement 7\\*8 = 56 arcs"
   ]
  },
  {
   "cell_type": "code",
   "execution_count": 4,
   "metadata": {},
   "outputs": [
    {
     "data": {
      "text/plain": [
       "[((0, 0, 'A'), (0, 10, 'B')),\n",
       " ((0, 0, 'A'), (10, 10, 'C')),\n",
       " ((0, 0, 'A'), (10, 0, 'D')),\n",
       " ((0, 0, 'A'), (60, 0, 'E'))]"
      ]
     },
     "execution_count": 4,
     "metadata": {},
     "output_type": "execute_result"
    }
   ],
   "source": [
    "cities = g8\n",
    "\n",
    "nb_cities  = len(cities)\n",
    "arcs = [ (cities[i], cities[j]) for i in range(nb_cities) for j in range(nb_cities) if i != j]\n",
    "\n",
    "# combien de paires: n^2 - n = n(n-1)\n",
    "assert len(arcs) == nb_cities * (nb_cities-1)\n",
    "arcs[:4]"
   ]
  },
  {
   "cell_type": "markdown",
   "metadata": {},
   "source": [
    "## Creer un modele vide\n",
    "\n",
    "Pour creer un modele on nlui passe son nom (une chaine de caracteres)."
   ]
  },
  {
   "cell_type": "code",
   "execution_count": 5,
   "metadata": {},
   "outputs": [
    {
     "name": "stdout",
     "output_type": "stream",
     "text": [
      "Model: tsp1\n",
      " - number of variables: 0\n",
      "   - binary=0, integer=0, continuous=0\n",
      " - number of constraints: 0\n",
      "   - linear=0\n",
      " - parameters: defaults\n",
      " - problem type is: LP\n"
     ]
    }
   ],
   "source": [
    "from docplex.mp.model import Model\n",
    "\n",
    "tsp1 = Model(name='tsp1')\n",
    "# a ce stade le modele est vide: ni variables ni contraintes\n",
    "# son type est LP par defaut, c est a dire Linear Program\n",
    "tsp1.print_information()"
   ]
  },
  {
   "cell_type": "markdown",
   "metadata": {},
   "source": [
    "### Definir les variables binaires\n",
    "\n",
    "Q1: combien de variables binaires?\n",
    "Q2: a quoi est associee une variable binaire\n",
    "\n",
    "\n",
    "Chaque variables est nommee par une chaine de caracteres. On va passer a la\n",
    "fonction `Model.binary_var_dict` les cles, c'est a dire les objets qui nous serviront a retrouver les variables, \n",
    "et une fonction, qui prend une cle et retourne le nom de la variable (une chaine de caracteres).\n"
   ]
  },
  {
   "cell_type": "code",
   "execution_count": 6,
   "metadata": {},
   "outputs": [],
   "source": [
    "# une fonction qui cree des noms: son argument est le tuple (p,q) qu il faut destructurer\n",
    "# Le nom de la variable d arc entre (0,0, \"Paris\") et (1,1,, \"London\") sera  \"Paris_to_London\"\n",
    "def nom_arc(pq):\n",
    "    p, q = pq\n",
    "    return \"{0}_to_{1}\".format(p[2], q[2])"
   ]
  },
  {
   "cell_type": "code",
   "execution_count": 7,
   "metadata": {},
   "outputs": [
    {
     "name": "stdout",
     "output_type": "stream",
     "text": [
      "Model: tsp1\n",
      " - number of variables: 56\n",
      "   - binary=56, integer=0, continuous=0\n",
      " - number of constraints: 0\n",
      "   - linear=0\n",
      " - parameters: defaults\n",
      " - problem type is: MILP\n"
     ]
    }
   ],
   "source": [
    "\n",
    "# on utilise la fonction binary_var_dict,quiretourne un dictionnaire Python\n",
    "# les cles sont les arcs (pi, pj).\n",
    "arc_vars = tsp1.binary_var_dict(arcs, name=nom_arc)\n",
    "# on verifie qu on a bien 56 = 8 * (8-1) variables binaires...\n",
    "\n",
    "# noter que le type est devenu MILP: Mixed Integer Linear Program,\n",
    "# car on a ajoute des variables binaires (type entier) au probleme.\n",
    "tsp1.print_information()"
   ]
  },
  {
   "cell_type": "markdown",
   "metadata": {},
   "source": [
    "### Ajouter les contraintes de noeuds\n",
    "\n",
    "pour chaque noud (=ville) , on pose deux contraintes:\n",
    "\n",
    "1. le nombre des arcs _entrants_ est exactement 1\n",
    "2. le nombre des arcs _sortants_ est exactement 1.\n",
    "\n",
    "Comme les variables sont binaires, cela signifie que dans les deux cas une variable et une seule est egale a 1, les autres valant 0.\n",
    "\n",
    "On verra que ces contraintes seules ne sont pas suffisantes, et qu il faudra en ajouter d autres.\n",
    "\n",
    "*Question*: si $N$ designe le nombre de points, combien a t on defini de contraintes de ce type? le verifier."
   ]
  },
  {
   "cell_type": "code",
   "execution_count": 8,
   "metadata": {},
   "outputs": [
    {
     "name": "stdout",
     "output_type": "stream",
     "text": [
      "Model: tsp1\n",
      " - number of variables: 56\n",
      "   - binary=56, integer=0, continuous=0\n",
      " - number of constraints: 16\n",
      "   - linear=16\n",
      " - parameters: defaults\n",
      " - problem type is: MILP\n"
     ]
    }
   ],
   "source": [
    "for c in cities:\n",
    "    # calculer la somme des arcs entrants (une expression)\n",
    "    entrants = [arc_vars[c1, c] for c1 in cities if c1 != c]\n",
    "    # ajouter une contrainte expriamnt que cette somme vaut 1\n",
    "    tsp1.add(tsp1.sum(entrants) == 1)\n",
    "    # calculer la somme des arcs sortants (une expression)\n",
    "    sortants = [arc_vars[c, c2] for c2 in cities if c2 != c]\n",
    "    # ajouter une contrainte expriamnt que cette somme vaut 1\n",
    "    tsp1.add_constraint(tsp1.sum(sortants) == 1)\n",
    "    \n",
    "# verifier le nombre de contraintes ajoutees: quel nombre est attendu??\n",
    "tsp1.print_information()"
   ]
  },
  {
   "cell_type": "markdown",
   "metadata": {},
   "source": [
    "## Definir l'objectif\n",
    "\n",
    "Le but est de _minimiser_ la distance totale, on va donc utiliser la fonction `Model.minimize()`.\n",
    "On doit lui passer la longeueur totale du chamin resultat. Pour chaque arc possible, on connait sa longueur, calculeee par la fonction de distance _d_.\n",
    "La valeur de la distance est donc egale a $d(p_i,p_j)$ si $a_{i,j}$ vaut 1, 0 sinon.\n",
    "\n",
    "\n",
    "La distance totale s obtient en sommant ces quantites.\n",
    "\n",
    "On pourra utiliser la fonction `Model.dotf` (pour **f**unctional **dot** ou produit scalaire fonctionnel. Cettte fonction prend un argument:\n",
    "\n",
    "- un dictionnaire de variables, a partir d une cle $k$ donne une variable $x_k$: $d[k] = x_k$\n",
    "- une fonction $f$ qui prend une cle $k$ en argument et retourne un flottant nombre $a_k$. Dans  notre cas, les cles sont les arcs, et on veut retourner la distance de pi a pj.\n",
    "\n",
    "La fonction retourne la somme des $a_k x_k$ pour toutes les cles du dictionnaire.\n",
    "\n",
    "**Note**: on fera attention a la signature de la fonction euclide, qui prend deux points en argument. Par contre, le dicitonnaire a pour cles des _tuples_ python avec deux points.."
   ]
  },
  {
   "cell_type": "code",
   "execution_count": 9,
   "metadata": {},
   "outputs": [],
   "source": [
    "# for each arc, count the distance, and compute the sum using Model.sum(), not Python sum()\n",
    "tsp1.minimize(tsp1.dotf(arc_vars, lambda pq: euclide(pq[0], pq[1])))"
   ]
  },
  {
   "cell_type": "markdown",
   "metadata": {},
   "source": [
    "## Resoudre le probleme lineaire.\n",
    "\n",
    "On utilise la methode `Model.solve`, qui lance le solveur lineaire.\n",
    "\n",
    "Cette methode retourne un objet solution , qui contient toutes les valeurs de variables, soit 0 ou 1 dans notre cas."
   ]
  },
  {
   "cell_type": "code",
   "execution_count": 10,
   "metadata": {},
   "outputs": [
    {
     "name": "stdout",
     "output_type": "stream",
     "text": [
      "Version identifier: 12.10.0.0 | 2019-09-19 | b4d7cc16e3\n",
      "CPXPARAM_Read_DataCheck                          1\n",
      "Found incumbent of value 80.000000 after 0.00 sec. (0.01 ticks)\n",
      "Tried aggregator 1 time.\n",
      "Reduced MIP has 16 rows, 56 columns, and 112 nonzeros.\n",
      "Reduced MIP has 56 binaries, 0 generals, 0 SOSs, and 0 indicators.\n",
      "Presolve time = 0.00 sec. (0.06 ticks)\n",
      "Probing time = 0.00 sec. (0.06 ticks)\n",
      "Tried aggregator 1 time.\n",
      "Detecting symmetries...\n",
      "Reduced MIP has 16 rows, 56 columns, and 112 nonzeros.\n",
      "Reduced MIP has 56 binaries, 0 generals, 0 SOSs, and 0 indicators.\n",
      "Presolve time = 0.00 sec. (0.10 ticks)\n",
      "Probing time = 0.00 sec. (0.06 ticks)\n",
      "Clique table members: 16.\n",
      "MIP emphasis: balance optimality and feasibility.\n",
      "MIP search method: dynamic search.\n",
      "Parallel mode: deterministic, using up to 12 threads.\n",
      "Root relaxation solution time = 0.00 sec. (0.04 ticks)\n",
      "\n",
      "        Nodes                                         Cuts/\n",
      "   Node  Left     Objective  IInf  Best Integer    Best Bound    ItCnt     Gap\n",
      "\n",
      "*     0+    0                           80.0000        0.0000           100.00%\n",
      "      0     0        cutoff             80.0000                      9    0.00%\n",
      "\n",
      "Root node processing (before b&c):\n",
      "  Real time             =    0.02 sec. (0.41 ticks)\n",
      "Parallel b&c, 12 threads:\n",
      "  Real time             =    0.00 sec. (0.00 ticks)\n",
      "  Sync time (average)   =    0.00 sec.\n",
      "  Wait time (average)   =    0.00 sec.\n",
      "                          ------------\n",
      "Total (root+branch&cut) =    0.02 sec. (0.41 ticks)\n"
     ]
    }
   ],
   "source": [
    "s1 = tsp1.solve(log_output=True)"
   ]
  },
  {
   "cell_type": "markdown",
   "metadata": {},
   "source": [
    "## Analyser la solution\n",
    "\n",
    "La fonction `Model.solve` retourne une _solution_. Une solution Docplex est un objet qui contient la valeur optimale pour chaque variable x. La valeur optimale de x est donnee par l operateur `[]`, soit `sol[x]` pour une variable `x` retourne la valeur optimale de `x`."
   ]
  },
  {
   "cell_type": "code",
   "execution_count": 11,
   "metadata": {},
   "outputs": [
    {
     "name": "stdout",
     "output_type": "stream",
     "text": [
      "solution for: tsp1\n",
      "objective: 80.000\n",
      "A_to_B = 1\n",
      "B_to_A = 1\n",
      "C_to_D = 1\n",
      "D_to_C = 1\n",
      "E_to_F = 1\n",
      "F_to_E = 1\n",
      "G_to_H = 1\n",
      "H_to_G = 1\n"
     ]
    }
   ],
   "source": [
    "# sol.display() premet de visualiser la solution:\n",
    "s1.display()"
   ]
  },
  {
   "cell_type": "code",
   "execution_count": 12,
   "metadata": {},
   "outputs": [],
   "source": [
    "# une fonction auxilaire qui convertit la solution en arcs.\n",
    "\n",
    "def sol2arcs(sol):\n",
    "    return [a for a in arcs if sol[arc_vars[a]] >= 0.5]"
   ]
  },
  {
   "cell_type": "markdown",
   "metadata": {},
   "source": [
    "## Visualiser la solution\n",
    "\n",
    "Avec matplotlib"
   ]
  },
  {
   "cell_type": "code",
   "execution_count": 13,
   "metadata": {},
   "outputs": [
    {
     "data": {
      "image/png": "[encoded data removed]",
      "text/plain": [
       "<Figure size 792x216 with 1 Axes>"
      ]
     },
     "metadata": {
      "needs_background": "light"
     },
     "output_type": "display_data"
    }
   ],
   "source": [
    "import matplotlib.pyplot as plt\n",
    "%matplotlib inline\n",
    "\n",
    "\n",
    "def afficher_graphe(arcs, marge=5, **kwargs):\n",
    "    inverse_xy = kwargs.pop('inverse_xy', False)\n",
    "\n",
    "    # afficher un graphe donne sous forme de couples (from, to)\n",
    "    \n",
    "    if inverse_xy:\n",
    "        inv_arcs = []\n",
    "        for a in arcs:\n",
    "            start, end = a\n",
    "            xa, ya, na = start\n",
    "            xb, yb, nb = end\n",
    "            inv_arcs.append( ((ya,xa, na), (yb, xb, nb)))\n",
    "        return afficher_graphe(inv_arcs, marge, **kwargs)\n",
    "    \n",
    "    points = set(a[0] for a in arcs).union(set([a[1] for a in arcs]))\n",
    "\n",
    "    def plot_arrow(s1, s2, f, color):\n",
    "        ## afficher une fleche\n",
    "        if inverse_xy:\n",
    "            y0, x0, _ = s1\n",
    "            y1, x1, _ = s2 \n",
    "        else:\n",
    "            x0, y0, _ = s1\n",
    "            x1, y1, _ = s2\n",
    "        line = plt.plot([x0, x1], [y0, y1], color=color)\n",
    "\n",
    "        if f:\n",
    "            dx = f * (x1 - x0)\n",
    "            dy = f * (y1 - y0)\n",
    "            a = plt.arrow(x0, y0, dx, dy, color=color, head_width=1, head_length=1)\n",
    "    figsize =  kwargs.pop('figsize', (12,5))\n",
    "    plt.figure(figsize=figsize)\n",
    "    coords = [(p[0], p[1]) for p in points]\n",
    "    xmin = min( c[0] for c in coords)\n",
    "    xmax = max( c[0] for c in coords)\n",
    "    ymin = min( c[1] for c in coords)\n",
    "    ymax = max( c[1] for c in coords)\n",
    "    plt.axis([xmin-marge, xmax+marge, ymin-marge, ymax+marge])\n",
    "\n",
    "    plt.scatter([s[0] for s in points], [s[1] for s in points], color=\"red\", marker=\"s\")\n",
    "    f = kwargs.pop('f', 0.2)\n",
    "    for depart, arrivee in arcs:\n",
    "        plot_arrow(depart, arrivee, f, color='blue')\n",
    "\n",
    "    plt.show()\n",
    "    \n",
    "def afficher_solution(s, marge=5, **kwargs):\n",
    "    afficher_graphe(sol2arcs(s), marge=marge, **kwargs)\n",
    "    \n",
    "def afficher_chemin(chemin, marge=5, **kwargs):\n",
    "    n = len(chemin)\n",
    "    arcs = [(chemin[i], chemin[i+1]) for i in range(n-1)]\n",
    "    # close the loop\n",
    "    arcs.append( (chemin[-1], chemin[0]) )\n",
    "    afficher_graphe(arcs, marge=marge, **kwargs)\n",
    "             \n",
    "    \n",
    "afficher_solution(s1, figsize=(11,3))"
   ]
  },
  {
   "cell_type": "markdown",
   "metadata": {},
   "source": [
    "Le graphe ci dessus n est pas _hamiltonien_ car il contient des cycles, par exemple A-> B ->A. Ce n est pas surprenant car rien dans notre modele ne force la solution a representer un graphe hamiltonien complet.\n",
    "\n",
    "\n",
    "## Reparation\n",
    "\n",
    "Dans un premier temps, nous allons proceder par reparation iterative de la solution. \n",
    "\n",
    "L algorithme est:\n",
    "\n",
    "1. chercher un sous-cyle dans la solution, c'est a dire un cycle de longueur < N.\n",
    "    s il n y en a pas, on a fini, la solution contient bien un graphe hamiltonien.\n",
    "    \n",
    "2. sinon, on va ajouter une nouvelle contrainte qui rend ce cycle impossible au modele\n",
    "\n",
    "3. puis on relance la resolution du modele, qui donne une nouvelle solution, puis on recommence a chercher un nouveau cycle.\n",
    "\n",
    "Pour information, le solveur lineaire ne repart pas du debut, mais se sert de la solution precedente (qui n est plus valable a cause de notre nouvelle contrainte), mais il va quand meme essayer de la reparer.\n"
   ]
  },
  {
   "cell_type": "markdown",
   "metadata": {},
   "source": [
    "## recherche de cycles\n",
    "\n",
    "On part d une solution produite par le modele et on cherche un cycle, on retournera le plus petit (en taille).\n",
    "Si le plus petit cycle est de longeuru N, on a fini!\n",
    "Sinon, on va devoir reparer le modele en construisant une nouvealle contrainte qui rendra ce cycle impossible."
   ]
  },
  {
   "cell_type": "markdown",
   "metadata": {},
   "source": [
    "Les etapes:\n",
    " - calculer un dict des successeurs, c est a dire pour chaque point son successeur direct (il y en a un seul)\n",
    " - ensuite, on part d'un point et on visite ses successeurs, en les memorisant dans une liste (et aussi dans les points visites),\n",
    " jusqu'a ce qu'on revienne au point de depart. On regarde le cycle ainsi construit: s il contient tous les points (comment savoir?) on le retourne, sinon on continue avec un autre point et on retournera le plus petit cycle trouve.\n",
    "    "
   ]
  },
  {
   "cell_type": "code",
   "execution_count": 14,
   "metadata": {},
   "outputs": [
    {
     "data": {
      "text/plain": [
       "[(0, 0, 'A'), (0, 10, 'B')]"
      ]
     },
     "execution_count": 14,
     "metadata": {},
     "output_type": "execute_result"
    }
   ],
   "source": [
    "def cherche_plus_petit_cycle(all_cities, arc_vars, solution):\n",
    "    # les arcs\n",
    "    arcs = list(arc_vars.keys())\n",
    "    # convertir la solution en un dict arcs-> 1, 0\n",
    "    liens = solution.get_value_dict(arc_vars)\n",
    "    # un dict des successeurs: pi -> pj\n",
    "    succs = {c1: c2 for (c1, c2) in arcs if liens.get((c1,c2), 0) >= 0.5}\n",
    "    nb_cities = len(all_cities)\n",
    "    assert nb_cities == len(succs)\n",
    "    \n",
    "    # ensemble des points visites\n",
    "    visited = set()\n",
    "    plus_petit_cycle = all_cities\n",
    "    for c in all_cities:\n",
    "        # si on est deja passe par c on passe au suivant\n",
    "        if c in visited:\n",
    "            continue\n",
    "            \n",
    "        # on calcule le chemin passant par c\n",
    "        cur_chemin = []\n",
    "        cur_node = c\n",
    "        start_node = c\n",
    "        # on s arrete si on retrouve le depart sauf si on est au depart.\n",
    "        while cur_node != start_node or not cur_chemin:\n",
    "            # ajoute aux visites\n",
    "            visited.add(cur_node)\n",
    "            #on ajoute au chemin courant\n",
    "            cur_chemin.append(cur_node)\n",
    "            # on passe au suivant\n",
    "            next = succs[cur_node]\n",
    "            cur_node = next\n",
    "            \n",
    "        # on a un chemin, on teste sa longueur\n",
    "        if len(cur_chemin) < len(plus_petit_cycle):\n",
    "            # c est un cycle, on le memorise\n",
    "            plus_petit_cycle = cur_chemin\n",
    "        elif len(cur_chemin) == nb_cities:\n",
    "            # on a fini....\n",
    "            return cur_chemin\n",
    "    return plus_petit_cycle\n",
    "            \n",
    "        \n",
    "    \n",
    "ch = cherche_plus_petit_cycle(g8, arc_vars, s1)\n",
    "ch"
   ]
  },
  {
   "cell_type": "markdown",
   "metadata": {},
   "source": [
    "# comment supprimer le cycle\n",
    "\n",
    "Une fois le cycle _C_ identifie, on procedera de la facon suivante:\n",
    "\n",
    "Le cycle _C_ definit en ensemble de points isoles _S1_, par hypothese son complementaire _S2_ est non vide. \n",
    "On exprime alors que la solution contient au moins un arc qui part d un point de _S1_ vers un point de _S2_.\n",
    "\n",
    "Note: il ne serait pas praticable d ajouter _a priori_ ces contraintes pour tous les sous-ensemble de points,\n",
    "l ensemble des parties de _S_ etant  trop gros.\n",
    "\n"
   ]
  },
  {
   "cell_type": "code",
   "execution_count": 15,
   "metadata": {},
   "outputs": [],
   "source": [
    "def coupe_cycle(cities, cycle, arc_vars, m):\n",
    "    # two region cut: force one arc from subtour to the\n",
    "    # complementary of the subtour. in fact there must be two arcs..\n",
    "    substour_set = set(cycle)\n",
    "    subtour_comp = set(cprime for cprime in cities if cprime not in substour_set)\n",
    "    # sanity check\n",
    "    assert len(substour_set) + len(subtour_comp) == len(cities)\n",
    "    # need to use min/max as edge vars are for i,j with i <j\n",
    "    break_edges = [(c1, c2) for c1 in substour_set for c2 in subtour_comp]\n",
    "    m.add(m.sum_vars(arc_vars[bke] for bke in break_edges) >= 1)"
   ]
  },
  {
   "cell_type": "code",
   "execution_count": 16,
   "metadata": {},
   "outputs": [
    {
     "name": "stdout",
     "output_type": "stream",
     "text": [
      "Model: tsp1\n",
      " - number of variables: 56\n",
      "   - binary=56, integer=0, continuous=0\n",
      " - number of constraints: 17\n",
      "   - linear=17\n",
      " - parameters: defaults\n",
      " - problem type is: MILP\n"
     ]
    }
   ],
   "source": [
    "coupe_cycle(g8, ch, arc_vars, tsp1)\n",
    "tsp1.print_information()"
   ]
  },
  {
   "cell_type": "code",
   "execution_count": 17,
   "metadata": {},
   "outputs": [
    {
     "name": "stdout",
     "output_type": "stream",
     "text": [
      "solution for: tsp1\n",
      "objective: 80.000\n",
      "A_to_D = 1\n",
      "B_to_A = 1\n",
      "C_to_B = 1\n",
      "D_to_C = 1\n",
      "E_to_F = 1\n",
      "F_to_G = 1\n",
      "G_to_H = 1\n",
      "H_to_E = 1\n"
     ]
    }
   ],
   "source": [
    "s2 = tsp1.solve()\n",
    "s2.display()"
   ]
  },
  {
   "cell_type": "code",
   "execution_count": 18,
   "metadata": {},
   "outputs": [
    {
     "name": "stdout",
     "output_type": "stream",
     "text": [
      "plus petit cyle longueur: 4\n"
     ]
    }
   ],
   "source": [
    "ch2 = cherche_plus_petit_cycle(g8, arc_vars, s2)\n",
    "print(\"plus petit cyle longueur: {0}\".format(len(ch2)))"
   ]
  },
  {
   "cell_type": "code",
   "execution_count": 19,
   "metadata": {},
   "outputs": [
    {
     "data": {
      "image/png": "[encoded data removed]",
      "text/plain": [
       "<Figure size 864x360 with 1 Axes>"
      ]
     },
     "metadata": {
      "needs_background": "light"
     },
     "output_type": "display_data"
    }
   ],
   "source": [
    "afficher_solution(s2)"
   ]
  },
  {
   "cell_type": "code",
   "execution_count": 20,
   "metadata": {},
   "outputs": [
    {
     "name": "stdout",
     "output_type": "stream",
     "text": [
      "plus petit cyle longueur: 2\n"
     ]
    },
    {
     "data": {
      "image/png": "[encoded data removed]",
      "text/plain": [
       "<Figure size 864x360 with 1 Axes>"
      ]
     },
     "metadata": {
      "needs_background": "light"
     },
     "output_type": "display_data"
    },
    {
     "name": "stdout",
     "output_type": "stream",
     "text": [
      "plus petit cyle longueur: 8\n"
     ]
    },
    {
     "data": {
      "image/png": "[encoded data removed]",
      "text/plain": [
       "<Figure size 864x360 with 1 Axes>"
      ]
     },
     "metadata": {
      "needs_background": "light"
     },
     "output_type": "display_data"
    }
   ],
   "source": [
    "coupe_cycle(g8, ch2, arc_vars, tsp1)\n",
    "s3 = tsp1.solve()\n",
    "ch3 = cherche_plus_petit_cycle(g8, arc_vars, s3)\n",
    "print(\"plus petit cyle longueur: {0}\".format(len(ch3)))\n",
    "afficher_solution(s3)\n",
    "coupe_cycle(g8, ch3, arc_vars, tsp1)\n",
    "s4 = tsp1.solve()\n",
    "ch4 = cherche_plus_petit_cycle(g8, arc_vars, s4)\n",
    "print(\"plus petit cyle longueur: {0}\".format(len(ch4)))\n",
    "afficher_solution(s4)"
   ]
  },
  {
   "cell_type": "markdown",
   "metadata": {},
   "source": [
    "## Algorithme iteratif\n",
    "\n",
    "Ecrire un algorithme iteratif en suivant les etapes precedentes:\n",
    "\n",
    "1. la fonction prendra en argument\n",
    "\n",
    "1. une liste de points, comme des triplets (nom, x1, x2)\n",
    "2. une fonction de distance : PxP -> float\n",
    "3. un nombre maximum d iterations, disons 100.\n",
    "3. un flag verbose pour ecrire des messages\n",
    "\n",
    "L algorithme retournera un tuple des deux elements:\n",
    "le premier est la distance totale du chemin le plus court,\n",
    "le secondune liste de points ordonnes qui represente le chemin\n",
    "\n",
    "Les etapes de l algorithme sont:\n",
    "\n",
    "1. construire un modele avec variables et contraintes\n",
    "2. tant que la resolution du modele produit un cycle de longueur N\n",
    "3. ajouter une contrainte qui coupe le cycle. et relancer le solveur sur le meme modele\n",
    "\n",
    "\n",
    "Question: les etapes precedentes on montre des cycles de longeur 2.\n",
    "Comment pourrait on rendre impossibles de tels cycles de maniere simple,\n",
    "et ceci des la construction du modele?\n"
   ]
  },
  {
   "cell_type": "code",
   "execution_count": 21,
   "metadata": {},
   "outputs": [],
   "source": [
    "def tsp_lineaire(cities, distance_fn, verbose=True, iter_max=100):\n",
    "    \n",
    "    def cycle_2_string(cyc):\n",
    "        return \" -> \".join(c[2] for c in cyc) + \" -> ...\"\n",
    "    \n",
    "    tspm = Model(name=\"tsp\")\n",
    "    nb_cities  = len(cities)\n",
    "    arcs = [ (cities[i], cities[j]) for i in range(nb_cities) for j in range(nb_cities) if i != j]\n",
    "    arc_vars = tspm.binary_var_dict(arcs, name=nom_arc)\n",
    "    \n",
    "    # les d arcs entrant et sortant\n",
    "    for c in cities:\n",
    "        entrants = [arc_vars[c1, c] for c1 in cities if c1 != c]\n",
    "        tspm.add(tspm.sum(entrants) == 1)\n",
    "        sortants = [arc_vars[c, c2] for c2 in cities if c2 != c]\n",
    "        tspm.add_constraint(tspm.sum(sortants) == 1)\n",
    "    \n",
    "    # une contrainte pour supprimer les 2-cycles\n",
    "    for (pi, pj) in arcs:\n",
    "        if pi < pj:\n",
    "            tspm.add( arc_vars[pi, pj] + arc_vars[pj,pi] <= 1)\n",
    "    \n",
    "    # objectif\n",
    "    # for each arc, count the distance, and compute the sum using Model.sum(), not Python sum()\n",
    "    # attention: transformer la distance (c1, c2) -> d en distance( 2-tuple) -> d\n",
    "    \n",
    "    tspm.minimize(tsp1.dotf(arc_vars, lambda pq: distance_fn(pq[0], pq[1])))\n",
    "\n",
    "    tspm.print_information()\n",
    "\n",
    "    n_iter = 0\n",
    "    while n_iter <= iter_max:\n",
    "        n_iter += 1\n",
    "        if verbose:\n",
    "            print(\"-- tsp: iteration #{0}\".format(n_iter))\n",
    "        s = tspm.solve()\n",
    "        assert s\n",
    "        ch = cherche_plus_petit_cycle(cities, arc_vars, s)\n",
    "        print(\"trouve cycle longueur: {0}: {1}\".format(len(ch), cycle_2_string(ch)))\n",
    "        if len(ch) == nb_cities:\n",
    "            # on a fini\n",
    "            lmin = s.objective_value\n",
    "            return lmin, ch\n",
    "        else:\n",
    "            # couper le cycle\n",
    "            coupe_cycle(cities, ch, arc_vars, tspm)\n",
    "    # \n",
    "    print(\"nombre maximum d iterations atteint...\")\n",
    "    return s.objective_value, ch\n",
    "        \n"
   ]
  },
  {
   "cell_type": "markdown",
   "metadata": {},
   "source": [
    "## Les ports de la Mer Noire.\n",
    "\n",
    "\n",
    "Dans le probleme de la Mer Noire, la distance est donnee par une matrice NxN, non symetrique: la distance de A a B peut etre differente de la distance de B a A.\n",
    "\n",
    "On va appliquer l algorithme precedent en convertissant la matrice en fonction.\n",
    "\n",
    "Dans ce cas, les coordonnees des points ne servent pas au calcul de distance,\n",
    "uniquement a l affichage des resultats.."
   ]
  },
  {
   "cell_type": "code",
   "execution_count": 22,
   "metadata": {},
   "outputs": [
    {
     "name": "stdout",
     "output_type": "stream",
     "text": [
      " il y a 8 villes: {'burgas', 'braila', 'reni', 'constanza', 'varna', 'galata', 'izmail', 'prague'}\n"
     ]
    }
   ],
   "source": [
    "# la distance comme tuples: v1, v2, d\n",
    "distance_mer_noire = [('prague', 'varna', 1279),\n",
    " ('prague', 'burgas', 1304),\n",
    " ('varna', 'prague', 1279),\n",
    " ('varna', 'constanza', 160),\n",
    " ('varna', 'izmail', 438),\n",
    " ('varna', 'reni', 372),\n",
    " ('varna', 'galata', 349),\n",
    " ('varna', 'braila', 332),\n",
    " ('burgas', 'prague', 1304),\n",
    " ('burgas', 'constanza', 290),\n",
    " ('burgas', 'izmail', 502),\n",
    " ('burgas', 'reni', 436),\n",
    " ('burgas', 'galata', 414),\n",
    " ('burgas', 'braila', 393),\n",
    " ('constanza', 'varna', 158),\n",
    " ('constanza', 'burgas', 288),\n",
    " ('constanza', 'izmail', 283),\n",
    " ('constanza', 'reni', 217),\n",
    " ('constanza', 'galata', 194),\n",
    " ('constanza', 'braila', 178),\n",
    " ('izmail', 'varna', 435),\n",
    " ('izmail', 'burgas', 503),\n",
    " ('izmail', 'constanza', 283),\n",
    " ('izmail', 'reni', 66),\n",
    " ('izmail', 'galata', 89),\n",
    " ('izmail', 'braila', 111),\n",
    " ('reni', 'varna', 369),\n",
    " ('reni', 'burgas', 437),\n",
    " ('reni', 'constanza', 217),\n",
    " ('reni', 'izmail', 66),\n",
    " ('reni', 'galata', 23.3),\n",
    " ('reni', 'braila', 44.4),\n",
    " ('galata', 'varna', 346),\n",
    " ('galata', 'burgas', 414),\n",
    " ('galata', 'constanza', 194),\n",
    " ('galata', 'izmail', 89),\n",
    " ('galata', 'reni', 23.3),\n",
    " ('galata', 'braila', 21.5),\n",
    " ('braila', 'varna', 330),\n",
    " ('braila', 'burgas', 392),\n",
    " ('braila', 'constanza', 177),\n",
    " ('braila', 'izmail', 110),\n",
    " ('braila', 'reni', 44.6),\n",
    " ('braila', 'galata', 21.7)]\n",
    "\n",
    "# villes comme l ensemble des noms:\n",
    "noms_villes_mer_noire = set()\n",
    "for v1, v2, _ in distance_mer_noire:\n",
    "    noms_villes_mer_noire.add(v1)\n",
    "    noms_villes_mer_noire.add(v2)\n",
    "    \n",
    "print(\" il y a {0} villes: {1}\".format(len(noms_villes_mer_noire), noms_villes_mer_noire))\n",
    "\n",
    "# les villes avec latitude longitude\n",
    "coords_mer_noire = {\"varna\": (43.212, 27.917),\n",
    "                    \"constanza\": (44.166502, 28.612863),\n",
    "                    \"izmail\": (45.351676, 28.833354),\n",
    "                    \"braila\": (45.270865, 27.951651),\n",
    "                    \"burgas\": (42.505048, 27.462281),\n",
    "                    \"reni\": (45.456295, 28.284047),\n",
    "                    \"prague\": (50.077612, 14.430638 ),\n",
    "                    \"galata\": (41.020782, 28.973179)}\n",
    "villes_mer_noire = [(vx1, vx2, vn) for vn, (vx1, vx2) in coords_mer_noire.items()]\n",
    "nom_2_ville = {v[2]: v for v in villes_mer_noire}\n",
    "\n",
    "\n",
    "matrice_mer_noire = { (nom_2_ville[n1], nom_2_ville[n2]): d for (n1, n2, d) in distance_mer_noire}\n",
    "                \n",
    "# la distance comme fonction\n",
    "# attentionon capture la matrice dans une cloture!\n",
    "def distance_mer_noire(v1, v2):\n",
    "    # si (v1,v2) n est pas dans la matrice, on retourne une valeur enorme....\n",
    "    return matrice_mer_noire.get((v1, v2), 1e+20)\n"
   ]
  },
  {
   "cell_type": "code",
   "execution_count": 25,
   "metadata": {},
   "outputs": [
    {
     "name": "stdout",
     "output_type": "stream",
     "text": [
      "Model: tsp\n",
      " - number of variables: 56\n",
      "   - binary=56, integer=0, continuous=0\n",
      " - number of constraints: 44\n",
      "   - linear=44\n",
      " - parameters: defaults\n",
      " - problem type is: MILP\n",
      "-- tsp: iteration #1\n",
      "trouve cycle longueur: 4: varna -> constanza -> burgas -> prague -> ...\n",
      "-- tsp: iteration #2\n",
      "trouve cycle longueur: 3: izmail -> galata -> reni -> ...\n",
      "-- tsp: iteration #3\n",
      "trouve cycle longueur: 8: varna -> prague -> burgas -> braila -> izmail -> reni -> galata -> constanza -> ...\n",
      "** distance minimum mer noire: 3527.3\n",
      "** le chemin optimal: varna -> prague -> burgas -> braila -> izmail -> reni -> galata -> constanza\n"
     ]
    },
    {
     "ename": "AssertionError",
     "evalue": "",
     "output_type": "error",
     "traceback": [
      "\u001b[1;31m---------------------------------------------------------------------------\u001b[0m",
      "\u001b[1;31mAssertionError\u001b[0m                            Traceback (most recent call last)",
      "\u001b[1;32m<ipython-input-25-d5d33470ba3a>\u001b[0m in \u001b[0;36m<module>\u001b[1;34m\u001b[0m\n\u001b[0;32m      3\u001b[0m \u001b[0mprint\u001b[0m\u001b[1;33m(\u001b[0m\u001b[1;34m\"** le chemin optimal: {0}\"\u001b[0m\u001b[1;33m.\u001b[0m\u001b[0mformat\u001b[0m\u001b[1;33m(\u001b[0m\u001b[1;34m\" -> \"\u001b[0m\u001b[1;33m.\u001b[0m\u001b[0mjoin\u001b[0m\u001b[1;33m(\u001b[0m\u001b[0mv\u001b[0m\u001b[1;33m[\u001b[0m\u001b[1;36m2\u001b[0m\u001b[1;33m]\u001b[0m \u001b[1;32mfor\u001b[0m \u001b[0mv\u001b[0m \u001b[1;32min\u001b[0m \u001b[0mcmn\u001b[0m\u001b[1;33m)\u001b[0m\u001b[1;33m)\u001b[0m\u001b[1;33m)\u001b[0m\u001b[1;33m\u001b[0m\u001b[1;33m\u001b[0m\u001b[0m\n\u001b[0;32m      4\u001b[0m \u001b[1;31m# distance minimum mer noire: 3527.3\u001b[0m\u001b[1;33m\u001b[0m\u001b[1;33m\u001b[0m\u001b[1;33m\u001b[0m\u001b[0m\n\u001b[1;32m----> 5\u001b[1;33m \u001b[1;32massert\u001b[0m \u001b[0mabs\u001b[0m\u001b[1;33m(\u001b[0m\u001b[0mlmn\u001b[0m \u001b[1;33m-\u001b[0m \u001b[1;36m3537.3\u001b[0m\u001b[1;33m)\u001b[0m \u001b[1;33m<=\u001b[0m \u001b[1;36m0.1\u001b[0m\u001b[1;33m\u001b[0m\u001b[1;33m\u001b[0m\u001b[0m\n\u001b[0m",
      "\u001b[1;31mAssertionError\u001b[0m: "
     ]
    }
   ],
   "source": [
    "lmn, cmn = tsp_lineaire(villes_mer_noire, distance_fn=distance_mer_noire, verbose=True)\n",
    "print(\"** distance minimum mer noire: {0}\".format(lmn))\n",
    "print(\"** le chemin optimal: {0}\".format(\" -> \".join(v[2] for v in cmn)))\n",
    "\n",
    "\n",
    "# distance minimum mer noire: 3527.3\n",
    "assert abs(lmn - 3537.3) <= 0.1"
   ]
  },
  {
   "cell_type": "code",
   "execution_count": 24,
   "metadata": {},
   "outputs": [
    {
     "data": {
      "image/png": "[encoded data removed]",
      "text/plain": [
       "<Figure size 1080x360 with 1 Axes>"
      ]
     },
     "metadata": {
      "needs_background": "light"
     },
     "output_type": "display_data"
    }
   ],
   "source": [
    "afficher_chemin(cmn, marge=1, inverse_xy=True, f=0, figsize=(15,5))"
   ]
  },
  {
   "cell_type": "code",
   "execution_count": null,
   "metadata": {},
   "outputs": [],
   "source": []
  }
 ],
 "metadata": {
  "kernelspec": {
   "display_name": "docplex37",
   "language": "python",
   "name": "docplex37"
  },
  "language_info": {
   "codemirror_mode": {
    "name": "ipython",
    "version": 3
   },
   "file_extension": ".py",
   "mimetype": "text/x-python",
   "name": "python",
   "nbconvert_exporter": "python",
   "pygments_lexer": "ipython3",
   "version": "3.7.5"
  }
 },
 "nbformat": 4,
 "nbformat_minor": 2
}
